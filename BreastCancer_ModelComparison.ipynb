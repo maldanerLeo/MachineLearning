{
 "cells": [
  {
   "cell_type": "code",
   "execution_count": 2,
   "metadata": {},
   "outputs": [
    {
     "data": {
      "text/plain": [
       "'\\nEN: \\nIn this file we will use the Wisconsin Breast Cancer dataset from kaggle to analyse the data and predict wheter \\nthe cancer is malign or benign using two different machine learning models.\\nThe data can be found in here: https://www.kaggle.com/uciml/breast-cancer-wisconsin-data\\n\\nPT:\\nNesse arquivo usaremos os dados de Cancer de mama na cidade de Wisconsin, retirado do Kaggle, para analisar e prever\\nse um dado cancer será maligno ou benífico utilizando dois modelos de aprendizado de máquina.\\nOs dados podem ser encontrados nesse link: https://www.kaggle.com/uciml/breast-cancer-wisconsin-data\\n'"
      ]
     },
     "execution_count": 2,
     "metadata": {},
     "output_type": "execute_result"
    }
   ],
   "source": [
    "'''\n",
    "EN: \n",
    "In this file we will use the Wisconsin Breast Cancer dataset from kaggle to analyse the data and predict wheter \n",
    "the cancer is malign or benign using two different machine learning models.\n",
    "The data can be found in here: https://www.kaggle.com/uciml/breast-cancer-wisconsin-data\n",
    "\n",
    "PT:\n",
    "Nesse arquivo usaremos os dados de Cancer de mama na cidade de Wisconsin, retirado do Kaggle, para analisar e prever\n",
    "se um dado cancer será maligno ou benífico utilizando dois modelos de aprendizado de máquina.\n",
    "Os dados podem ser encontrados nesse link: https://www.kaggle.com/uciml/breast-cancer-wisconsin-data\n",
    "'''"
   ]
  },
  {
   "cell_type": "code",
   "execution_count": 3,
   "metadata": {},
   "outputs": [],
   "source": [
    "import pandas as pd\n",
    "import seaborn as sns \n",
    "import matplotlib as plt\n",
    "%matplotlib inline "
   ]
  },
  {
   "cell_type": "code",
   "execution_count": 4,
   "metadata": {},
   "outputs": [],
   "source": [
    "# EN: Import the data and create a pandas dataframe\n",
    "# PT: Importando os dados e criando um pandas dataframe \n",
    "df = pd.read_csv('data.csv')"
   ]
  },
  {
   "cell_type": "code",
   "execution_count": 5,
   "metadata": {},
   "outputs": [
    {
     "data": {
      "text/html": [
       "<div>\n",
       "<style scoped>\n",
       "    .dataframe tbody tr th:only-of-type {\n",
       "        vertical-align: middle;\n",
       "    }\n",
       "\n",
       "    .dataframe tbody tr th {\n",
       "        vertical-align: top;\n",
       "    }\n",
       "\n",
       "    .dataframe thead th {\n",
       "        text-align: right;\n",
       "    }\n",
       "</style>\n",
       "<table border=\"1\" class=\"dataframe\">\n",
       "  <thead>\n",
       "    <tr style=\"text-align: right;\">\n",
       "      <th></th>\n",
       "      <th>id</th>\n",
       "      <th>diagnosis</th>\n",
       "      <th>radius_mean</th>\n",
       "      <th>texture_mean</th>\n",
       "      <th>perimeter_mean</th>\n",
       "      <th>area_mean</th>\n",
       "      <th>smoothness_mean</th>\n",
       "      <th>compactness_mean</th>\n",
       "      <th>concavity_mean</th>\n",
       "      <th>concave points_mean</th>\n",
       "      <th>...</th>\n",
       "      <th>texture_worst</th>\n",
       "      <th>perimeter_worst</th>\n",
       "      <th>area_worst</th>\n",
       "      <th>smoothness_worst</th>\n",
       "      <th>compactness_worst</th>\n",
       "      <th>concavity_worst</th>\n",
       "      <th>concave points_worst</th>\n",
       "      <th>symmetry_worst</th>\n",
       "      <th>fractal_dimension_worst</th>\n",
       "      <th>Unnamed: 32</th>\n",
       "    </tr>\n",
       "  </thead>\n",
       "  <tbody>\n",
       "    <tr>\n",
       "      <th>0</th>\n",
       "      <td>842302</td>\n",
       "      <td>M</td>\n",
       "      <td>17.99</td>\n",
       "      <td>10.38</td>\n",
       "      <td>122.80</td>\n",
       "      <td>1001.0</td>\n",
       "      <td>0.11840</td>\n",
       "      <td>0.27760</td>\n",
       "      <td>0.3001</td>\n",
       "      <td>0.14710</td>\n",
       "      <td>...</td>\n",
       "      <td>17.33</td>\n",
       "      <td>184.60</td>\n",
       "      <td>2019.0</td>\n",
       "      <td>0.1622</td>\n",
       "      <td>0.6656</td>\n",
       "      <td>0.7119</td>\n",
       "      <td>0.2654</td>\n",
       "      <td>0.4601</td>\n",
       "      <td>0.11890</td>\n",
       "      <td>NaN</td>\n",
       "    </tr>\n",
       "    <tr>\n",
       "      <th>1</th>\n",
       "      <td>842517</td>\n",
       "      <td>M</td>\n",
       "      <td>20.57</td>\n",
       "      <td>17.77</td>\n",
       "      <td>132.90</td>\n",
       "      <td>1326.0</td>\n",
       "      <td>0.08474</td>\n",
       "      <td>0.07864</td>\n",
       "      <td>0.0869</td>\n",
       "      <td>0.07017</td>\n",
       "      <td>...</td>\n",
       "      <td>23.41</td>\n",
       "      <td>158.80</td>\n",
       "      <td>1956.0</td>\n",
       "      <td>0.1238</td>\n",
       "      <td>0.1866</td>\n",
       "      <td>0.2416</td>\n",
       "      <td>0.1860</td>\n",
       "      <td>0.2750</td>\n",
       "      <td>0.08902</td>\n",
       "      <td>NaN</td>\n",
       "    </tr>\n",
       "    <tr>\n",
       "      <th>2</th>\n",
       "      <td>84300903</td>\n",
       "      <td>M</td>\n",
       "      <td>19.69</td>\n",
       "      <td>21.25</td>\n",
       "      <td>130.00</td>\n",
       "      <td>1203.0</td>\n",
       "      <td>0.10960</td>\n",
       "      <td>0.15990</td>\n",
       "      <td>0.1974</td>\n",
       "      <td>0.12790</td>\n",
       "      <td>...</td>\n",
       "      <td>25.53</td>\n",
       "      <td>152.50</td>\n",
       "      <td>1709.0</td>\n",
       "      <td>0.1444</td>\n",
       "      <td>0.4245</td>\n",
       "      <td>0.4504</td>\n",
       "      <td>0.2430</td>\n",
       "      <td>0.3613</td>\n",
       "      <td>0.08758</td>\n",
       "      <td>NaN</td>\n",
       "    </tr>\n",
       "    <tr>\n",
       "      <th>3</th>\n",
       "      <td>84348301</td>\n",
       "      <td>M</td>\n",
       "      <td>11.42</td>\n",
       "      <td>20.38</td>\n",
       "      <td>77.58</td>\n",
       "      <td>386.1</td>\n",
       "      <td>0.14250</td>\n",
       "      <td>0.28390</td>\n",
       "      <td>0.2414</td>\n",
       "      <td>0.10520</td>\n",
       "      <td>...</td>\n",
       "      <td>26.50</td>\n",
       "      <td>98.87</td>\n",
       "      <td>567.7</td>\n",
       "      <td>0.2098</td>\n",
       "      <td>0.8663</td>\n",
       "      <td>0.6869</td>\n",
       "      <td>0.2575</td>\n",
       "      <td>0.6638</td>\n",
       "      <td>0.17300</td>\n",
       "      <td>NaN</td>\n",
       "    </tr>\n",
       "    <tr>\n",
       "      <th>4</th>\n",
       "      <td>84358402</td>\n",
       "      <td>M</td>\n",
       "      <td>20.29</td>\n",
       "      <td>14.34</td>\n",
       "      <td>135.10</td>\n",
       "      <td>1297.0</td>\n",
       "      <td>0.10030</td>\n",
       "      <td>0.13280</td>\n",
       "      <td>0.1980</td>\n",
       "      <td>0.10430</td>\n",
       "      <td>...</td>\n",
       "      <td>16.67</td>\n",
       "      <td>152.20</td>\n",
       "      <td>1575.0</td>\n",
       "      <td>0.1374</td>\n",
       "      <td>0.2050</td>\n",
       "      <td>0.4000</td>\n",
       "      <td>0.1625</td>\n",
       "      <td>0.2364</td>\n",
       "      <td>0.07678</td>\n",
       "      <td>NaN</td>\n",
       "    </tr>\n",
       "  </tbody>\n",
       "</table>\n",
       "<p>5 rows × 33 columns</p>\n",
       "</div>"
      ],
      "text/plain": [
       "         id diagnosis  radius_mean  texture_mean  perimeter_mean  area_mean  \\\n",
       "0    842302         M        17.99         10.38          122.80     1001.0   \n",
       "1    842517         M        20.57         17.77          132.90     1326.0   \n",
       "2  84300903         M        19.69         21.25          130.00     1203.0   \n",
       "3  84348301         M        11.42         20.38           77.58      386.1   \n",
       "4  84358402         M        20.29         14.34          135.10     1297.0   \n",
       "\n",
       "   smoothness_mean  compactness_mean  concavity_mean  concave points_mean  \\\n",
       "0          0.11840           0.27760          0.3001              0.14710   \n",
       "1          0.08474           0.07864          0.0869              0.07017   \n",
       "2          0.10960           0.15990          0.1974              0.12790   \n",
       "3          0.14250           0.28390          0.2414              0.10520   \n",
       "4          0.10030           0.13280          0.1980              0.10430   \n",
       "\n",
       "   ...  texture_worst  perimeter_worst  area_worst  smoothness_worst  \\\n",
       "0  ...          17.33           184.60      2019.0            0.1622   \n",
       "1  ...          23.41           158.80      1956.0            0.1238   \n",
       "2  ...          25.53           152.50      1709.0            0.1444   \n",
       "3  ...          26.50            98.87       567.7            0.2098   \n",
       "4  ...          16.67           152.20      1575.0            0.1374   \n",
       "\n",
       "   compactness_worst  concavity_worst  concave points_worst  symmetry_worst  \\\n",
       "0             0.6656           0.7119                0.2654          0.4601   \n",
       "1             0.1866           0.2416                0.1860          0.2750   \n",
       "2             0.4245           0.4504                0.2430          0.3613   \n",
       "3             0.8663           0.6869                0.2575          0.6638   \n",
       "4             0.2050           0.4000                0.1625          0.2364   \n",
       "\n",
       "   fractal_dimension_worst  Unnamed: 32  \n",
       "0                  0.11890          NaN  \n",
       "1                  0.08902          NaN  \n",
       "2                  0.08758          NaN  \n",
       "3                  0.17300          NaN  \n",
       "4                  0.07678          NaN  \n",
       "\n",
       "[5 rows x 33 columns]"
      ]
     },
     "execution_count": 5,
     "metadata": {},
     "output_type": "execute_result"
    }
   ],
   "source": [
    "# EN: Let's take a look on the head of the data\n",
    "# PT: Vamos verificar o cabeçalho dos dados\n",
    "df.head()"
   ]
  },
  {
   "cell_type": "code",
   "execution_count": 6,
   "metadata": {},
   "outputs": [
    {
     "name": "stdout",
     "output_type": "stream",
     "text": [
      "<class 'pandas.core.frame.DataFrame'>\n",
      "RangeIndex: 569 entries, 0 to 568\n",
      "Data columns (total 33 columns):\n",
      " #   Column                   Non-Null Count  Dtype  \n",
      "---  ------                   --------------  -----  \n",
      " 0   id                       569 non-null    int64  \n",
      " 1   diagnosis                569 non-null    object \n",
      " 2   radius_mean              569 non-null    float64\n",
      " 3   texture_mean             569 non-null    float64\n",
      " 4   perimeter_mean           569 non-null    float64\n",
      " 5   area_mean                569 non-null    float64\n",
      " 6   smoothness_mean          569 non-null    float64\n",
      " 7   compactness_mean         569 non-null    float64\n",
      " 8   concavity_mean           569 non-null    float64\n",
      " 9   concave points_mean      569 non-null    float64\n",
      " 10  symmetry_mean            569 non-null    float64\n",
      " 11  fractal_dimension_mean   569 non-null    float64\n",
      " 12  radius_se                569 non-null    float64\n",
      " 13  texture_se               569 non-null    float64\n",
      " 14  perimeter_se             569 non-null    float64\n",
      " 15  area_se                  569 non-null    float64\n",
      " 16  smoothness_se            569 non-null    float64\n",
      " 17  compactness_se           569 non-null    float64\n",
      " 18  concavity_se             569 non-null    float64\n",
      " 19  concave points_se        569 non-null    float64\n",
      " 20  symmetry_se              569 non-null    float64\n",
      " 21  fractal_dimension_se     569 non-null    float64\n",
      " 22  radius_worst             569 non-null    float64\n",
      " 23  texture_worst            569 non-null    float64\n",
      " 24  perimeter_worst          569 non-null    float64\n",
      " 25  area_worst               569 non-null    float64\n",
      " 26  smoothness_worst         569 non-null    float64\n",
      " 27  compactness_worst        569 non-null    float64\n",
      " 28  concavity_worst          569 non-null    float64\n",
      " 29  concave points_worst     569 non-null    float64\n",
      " 30  symmetry_worst           569 non-null    float64\n",
      " 31  fractal_dimension_worst  569 non-null    float64\n",
      " 32  Unnamed: 32              0 non-null      float64\n",
      "dtypes: float64(31), int64(1), object(1)\n",
      "memory usage: 146.8+ KB\n"
     ]
    }
   ],
   "source": [
    "# EN: Check the information of the dataframe\n",
    "# PT: Verificar as informações dos dados\n",
    "df.info()"
   ]
  },
  {
   "cell_type": "code",
   "execution_count": 7,
   "metadata": {},
   "outputs": [],
   "source": [
    "# EN: The last column is filled nly with null values, that means that we can remove it.\n",
    "# PT: A última coluna está preenchida somente com valores nulos, portanto podemos removê-la\n",
    "df.drop('Unnamed: 32', axis=1, inplace=True)"
   ]
  },
  {
   "cell_type": "code",
   "execution_count": 8,
   "metadata": {},
   "outputs": [
    {
     "data": {
      "text/plain": [
       "'\\nEN:\\nFrom the information on kaggle and from the analysis above we can see that the data has 10 features and each feature \\nhas a column for mean, standard error and worst (mean of the tree largest values).\\nSo we end up with 30 numerical fetuatures and from the info() we can see that the dataset do not have null values.\\nThat means that the data is pretty much ready to be inserted in a model\\n\\nPT: \\nPelas informções obtidas no site em que os dados foram extraídos e pela análise acima, pode-se observar que \\nos dados possuem 10 propriedades e cada propreidade possui uma coluna com a média, erro parão e pior caso (média dos \\ntrês maiores valores).\\nPortanto, nós teremos 30 colunas com valores numéricos e com base na análise das informações os dados não possuem valores \\nnulos.\\nIsso significa que os dados estão basicamente prontos para serem inseridos em um modelo de apredizado de máquina.\\n'"
      ]
     },
     "execution_count": 8,
     "metadata": {},
     "output_type": "execute_result"
    }
   ],
   "source": [
    "'''\n",
    "EN:\n",
    "From the information on kaggle and from the analysis above we can see that the data has 10 features and each feature \n",
    "has a column for mean, standard error and worst (mean of the tree largest values).\n",
    "So we end up with 30 numerical fetuatures and from the info() we can see that the dataset do not have null values.\n",
    "That means that the data is pretty much ready to be inserted in a model\n",
    "\n",
    "PT: \n",
    "Pelas informções obtidas no site em que os dados foram extraídos e pela análise acima, pode-se observar que \n",
    "os dados possuem 10 propriedades e cada propreidade possui uma coluna com a média, erro parão e pior caso (média dos \n",
    "três maiores valores).\n",
    "Portanto, nós teremos 30 colunas com valores numéricos e com base na análise das informações os dados não possuem valores \n",
    "nulos.\n",
    "Isso significa que os dados estão basicamente prontos para serem inseridos em um modelo de apredizado de máquina.\n",
    "''' "
   ]
  },
  {
   "cell_type": "code",
   "execution_count": 9,
   "metadata": {},
   "outputs": [],
   "source": [
    "# EN: Let's take a look on the 'perimeter' feature. First the distribution and then the mean.\n",
    "# PT: Vamos visualizar algumas no atributo 'perímetro'. Primeiro a distribuição e depois a média."
   ]
  },
  {
   "cell_type": "code",
   "execution_count": 10,
   "metadata": {},
   "outputs": [
    {
     "data": {
      "text/plain": [
       "[]"
      ]
     },
     "execution_count": 10,
     "metadata": {},
     "output_type": "execute_result"
    },
    {
     "data": {
      "image/png": "[encoded data removed]",
      "text/plain": [
       "<Figure size 432x288 with 1 Axes>"
      ]
     },
     "metadata": {
      "needs_background": "light"
     },
     "output_type": "display_data"
    }
   ],
   "source": [
    "df['perimeter_mean'].hist().plot()"
   ]
  },
  {
   "cell_type": "code",
   "execution_count": 11,
   "metadata": {},
   "outputs": [
    {
     "data": {
      "text/plain": [
       "[]"
      ]
     },
     "execution_count": 11,
     "metadata": {},
     "output_type": "execute_result"
    },
    {
     "data": {
      "image/png": "[encoded data removed]",
      "text/plain": [
       "<Figure size 432x288 with 1 Axes>"
      ]
     },
     "metadata": {
      "needs_background": "light"
     },
     "output_type": "display_data"
    }
   ],
   "source": [
    "df['perimeter_se'].hist().plot()"
   ]
  },
  {
   "cell_type": "code",
   "execution_count": 12,
   "metadata": {},
   "outputs": [
    {
     "data": {
      "text/plain": [
       "[]"
      ]
     },
     "execution_count": 12,
     "metadata": {},
     "output_type": "execute_result"
    },
    {
     "data": {
      "image/png": "[encoded data removed]",
      "text/plain": [
       "<Figure size 432x288 with 1 Axes>"
      ]
     },
     "metadata": {
      "needs_background": "light"
     },
     "output_type": "display_data"
    }
   ],
   "source": [
    "df['perimeter_worst'].hist().plot()"
   ]
  },
  {
   "cell_type": "code",
   "execution_count": 13,
   "metadata": {},
   "outputs": [
    {
     "data": {
      "text/plain": [
       "[]"
      ]
     },
     "execution_count": 13,
     "metadata": {},
     "output_type": "execute_result"
    },
    {
     "data": {
      "image/png": "[encoded data removed]",
      "text/plain": [
       "<Figure size 432x288 with 1 Axes>"
      ]
     },
     "metadata": {
      "needs_background": "light"
     },
     "output_type": "display_data"
    }
   ],
   "source": [
    "# EN: 'perimeter_mean' distribuition for Malign cancers\n",
    "# PT: Distrubuição da 'média_perímetro' para canceres malignos \n",
    "df[df['diagnosis'] == 'M']['perimeter_mean'].hist().plot()"
   ]
  },
  {
   "cell_type": "code",
   "execution_count": 14,
   "metadata": {},
   "outputs": [
    {
     "data": {
      "text/plain": [
       "[]"
      ]
     },
     "execution_count": 14,
     "metadata": {},
     "output_type": "execute_result"
    },
    {
     "data": {
      "image/png": "[encoded data removed]",
      "text/plain": [
       "<Figure size 432x288 with 1 Axes>"
      ]
     },
     "metadata": {
      "needs_background": "light"
     },
     "output_type": "display_data"
    }
   ],
   "source": [
    "# EN: 'perimeter_mean' distribuition for benign cancers\n",
    "# PT: Distrubuição da 'média_perímetro' para canceres benignos \n",
    "df[df['diagnosis'] == 'B']['perimeter_mean'].hist().plot()"
   ]
  },
  {
   "cell_type": "code",
   "execution_count": 15,
   "metadata": {},
   "outputs": [
    {
     "data": {
      "text/plain": [
       "91.96903339191566"
      ]
     },
     "execution_count": 15,
     "metadata": {},
     "output_type": "execute_result"
    }
   ],
   "source": [
    "# EN: 'perimeter_mean' mean\n",
    "# PT: Média da 'média_perímetro'\n",
    "df['perimeter_mean'].mean()"
   ]
  },
  {
   "cell_type": "code",
   "execution_count": 16,
   "metadata": {},
   "outputs": [
    {
     "data": {
      "text/plain": [
       "115.36537735849062"
      ]
     },
     "execution_count": 16,
     "metadata": {},
     "output_type": "execute_result"
    }
   ],
   "source": [
    "# EN: 'perimeter_mean' mean for malign cancers\n",
    "# PT: Média da 'média_perímetro' para canceres malignos\n",
    "df[df['diagnosis']=='M']['perimeter_mean'].mean()"
   ]
  },
  {
   "cell_type": "code",
   "execution_count": 17,
   "metadata": {},
   "outputs": [
    {
     "data": {
      "text/plain": [
       "78.07540616246497"
      ]
     },
     "execution_count": 17,
     "metadata": {},
     "output_type": "execute_result"
    }
   ],
   "source": [
    "# EN: 'perimeter_mean' mean for benign cancers\n",
    "# PT: Média da 'média_perímetro' para canceres benignos\n",
    "df[df['diagnosis']=='B']['perimeter_mean'].mean()"
   ]
  },
  {
   "cell_type": "code",
   "execution_count": 18,
   "metadata": {},
   "outputs": [
    {
     "data": {
      "text/plain": [
       "\"\\nEN:\\nAs we can see from the distribution and the from the mean of the 'perimeter_mean' column, malign cancer tend to have langer\\nperimeter_mean. \\nWe also can conclude that if the perimeter_mean is langer than 100 the cancer is almost certain to be malign. \\nPT:\\nComo podemos ver pela distribuição e pela média da coluna 'média_perímetro', canceres malignos tendem a ter uma\\n'média_perímetro' maior.\\nAlém disso, podemos concluir que se o valor da 'média_perímetro' for maior que 100 o cancer será quase certamente maligno.\\n\""
      ]
     },
     "execution_count": 18,
     "metadata": {},
     "output_type": "execute_result"
    }
   ],
   "source": [
    "'''\n",
    "EN:\n",
    "As we can see from the distribution and the from the mean of the 'perimeter_mean' column, malign cancer tend to have langer\n",
    "perimeter_mean. \n",
    "We also can conclude that if the perimeter_mean is langer than 100 the cancer is almost certain to be malign. \n",
    "PT:\n",
    "Como podemos ver pela distribuição e pela média da coluna 'média_perímetro', canceres malignos tendem a ter uma\n",
    "'média_perímetro' maior.\n",
    "Além disso, podemos concluir que se o valor da 'média_perímetro' for maior que 100 o cancer será quase certamente maligno.\n",
    "'''"
   ]
  },
  {
   "cell_type": "code",
   "execution_count": 19,
   "metadata": {},
   "outputs": [
    {
     "data": {
      "text/plain": [
       "2.8660592267135288"
      ]
     },
     "execution_count": 19,
     "metadata": {},
     "output_type": "execute_result"
    }
   ],
   "source": [
    "# EN: let's see the mean standard error on the perimeter\n",
    "# PT: vamos verificar qual é o erra padrão para o perímetro\n",
    "df['perimeter_se'].mean()"
   ]
  },
  {
   "cell_type": "code",
   "execution_count": 20,
   "metadata": {},
   "outputs": [],
   "source": [
    "# EN: Considering values from 80 to 140 for the perimeter, our standard error is relatively low\n",
    "# PT: Considerando valores entre 80 e 140 para o perímetro, o erro padrão é relativamente baixo"
   ]
  },
  {
   "cell_type": "code",
   "execution_count": 21,
   "metadata": {},
   "outputs": [
    {
     "data": {
      "text/plain": [
       "B    357\n",
       "M    212\n",
       "Name: diagnosis, dtype: int64"
      ]
     },
     "execution_count": 21,
     "metadata": {},
     "output_type": "execute_result"
    }
   ],
   "source": [
    "# EN: Before spliting our data and insert it in the first model let's see the amount of malign and benign cancers in the data \n",
    "# PT: Antes de dividirmos nossos dados vamos avaliar a quantidade de canceres malignos e benignos nos nossos dados\n",
    "df['diagnosis'].value_counts()"
   ]
  },
  {
   "cell_type": "markdown",
   "metadata": {},
   "source": [
    "### df['diagnosis'].value_counts()"
   ]
  },
  {
   "cell_type": "code",
   "execution_count": 22,
   "metadata": {},
   "outputs": [],
   "source": [
    "#The information above will be import to analyse the performance of our models"
   ]
  },
  {
   "cell_type": "code",
   "execution_count": 23,
   "metadata": {},
   "outputs": [
    {
     "data": {
      "text/plain": [
       "\"\\nEN:\\nFor this classification problem I am going to use two different models and compare the results.\\nFor now I will not focus on parameter optmization.\\nSince in this problem we are dealing with a delicate problem such as cancer diagnosis it is import that we have a really \\nhigh precision.\\nModel 1: The first model we will use is the 'DecissionTreeClassifier' from the scikit-learn library\\nModel 2: The Second model will be XGBoost\\n\\nPT:\\nPara esse problema de classificação eu vou utilizar dois modelos diferentes e comparar os resultados.\\nPor enquanto eu não vou me preocupar com a otimização dos parâmetros dos modelos\\nNesse caso estamos lidando com um problema delicado como o diagnóstico de uma doença, portanto é necessário que se tenha \\numa precisão alta.\\nModelo 1: O primeiro modelo que usaremos será o 'DecissionTreeClassifier' da biblioteca Scikit-learn\\nModelo 2: O segundo modelo será o XGBoost\\n\""
      ]
     },
     "execution_count": 23,
     "metadata": {},
     "output_type": "execute_result"
    }
   ],
   "source": [
    "'''\n",
    "EN:\n",
    "For this classification problem I am going to use two different models and compare the results.\n",
    "For now I will not focus on parameter optmization.\n",
    "Since in this problem we are dealing with a delicate problem such as cancer diagnosis it is import that we have a really \n",
    "high precision.\n",
    "Model 1: The first model we will use is the 'DecissionTreeClassifier' from the scikit-learn library\n",
    "Model 2: The Second model will be XGBoost\n",
    "\n",
    "PT:\n",
    "Para esse problema de classificação eu vou utilizar dois modelos diferentes e comparar os resultados.\n",
    "Por enquanto eu não vou me preocupar com a otimização dos parâmetros dos modelos\n",
    "Nesse caso estamos lidando com um problema delicado como o diagnóstico de uma doença, portanto é necessário que se tenha \n",
    "uma precisão alta.\n",
    "Modelo 1: O primeiro modelo que usaremos será o 'DecissionTreeClassifier' da biblioteca Scikit-learn\n",
    "Modelo 2: O segundo modelo será o XGBoost\n",
    "'''"
   ]
  },
  {
   "cell_type": "code",
   "execution_count": 24,
   "metadata": {},
   "outputs": [],
   "source": [
    "# EN: To split our data in to the train and test parts let's use the train_test_split tool from scikit-learn\n",
    "# PT: Para dividir os dados nas partes de treino e teste usaremos a ferramenta 'train_test_split' da biblioteca 'scikit-learn'\n",
    "from sklearn.model_selection import train_test_split"
   ]
  },
  {
   "cell_type": "code",
   "execution_count": 25,
   "metadata": {},
   "outputs": [],
   "source": [
    "# EN: Creating the input and output dataframes \n",
    "# PT: Criando os dataframes de entradas e de saída\n",
    "X = df.drop('diagnosis', axis=1)\n",
    "y = df['diagnosis']"
   ]
  },
  {
   "cell_type": "code",
   "execution_count": 26,
   "metadata": {},
   "outputs": [],
   "source": [
    "# EN: Spliting the data \n",
    "# PT: Dividindo os dados \n",
    "X_train, X_test, y_train, y_test  = train_test_split(X, y, test_size=0.3, random_state=101)"
   ]
  },
  {
   "cell_type": "code",
   "execution_count": 27,
   "metadata": {},
   "outputs": [],
   "source": [
    "# EN: importing the first model we are going to use \n",
    "# PT: Importanto o primeiro modelo que utilizaremos \n",
    "from sklearn.tree import DecisionTreeClassifier"
   ]
  },
  {
   "cell_type": "code",
   "execution_count": 28,
   "metadata": {},
   "outputs": [],
   "source": [
    "# EN: Criating the model called 'dtree'\n",
    "# PT: Criando o modelo chamado 'dtree'\n",
    "dtree = DecisionTreeClassifier()"
   ]
  },
  {
   "cell_type": "code",
   "execution_count": 29,
   "metadata": {},
   "outputs": [
    {
     "data": {
      "text/plain": [
       "DecisionTreeClassifier()"
      ]
     },
     "execution_count": 29,
     "metadata": {},
     "output_type": "execute_result"
    }
   ],
   "source": [
    "# EN: Fitting the training data \n",
    "# PT: Colocando os dados de treino no modelo\n",
    "dtree.fit(X_train, y_train)"
   ]
  },
  {
   "cell_type": "code",
   "execution_count": 30,
   "metadata": {},
   "outputs": [],
   "source": [
    "# EN: Use the test part of the data to make predctions and assigning it to a variable \n",
    "# PT: Usando a parte de testes dos dados para fazer as prediçoes e atriuindo essas predições a uma variável\n",
    "predictions = dtree.predict(X_test)"
   ]
  },
  {
   "cell_type": "code",
   "execution_count": 31,
   "metadata": {},
   "outputs": [],
   "source": [
    "# EN: Importing the tools to evaluate our predictions\n",
    "# PT: Importando a ferramenta para avaliar as predições\n",
    "from sklearn.metrics import classification_report"
   ]
  },
  {
   "cell_type": "code",
   "execution_count": 32,
   "metadata": {},
   "outputs": [
    {
     "name": "stdout",
     "output_type": "stream",
     "text": [
      "              precision    recall  f1-score   support\n",
      "\n",
      "           B       0.92      0.92      0.92       105\n",
      "           M       0.88      0.86      0.87        66\n",
      "\n",
      "    accuracy                           0.90       171\n",
      "   macro avg       0.90      0.89      0.89       171\n",
      "weighted avg       0.90      0.90      0.90       171\n",
      "\n"
     ]
    }
   ],
   "source": [
    "# EN: Performance evaluation using classification_report. Here we compare our y_test (output variable) with our preditions\n",
    "# PT: Avalição da performance utilizando 'classification_report'. Aqui comparamos o y_test (variável de saída) com as predições.\n",
    "print(classification_report(y_test, predictions))"
   ]
  },
  {
   "cell_type": "code",
   "execution_count": 33,
   "metadata": {},
   "outputs": [
    {
     "data": {
      "text/plain": [
       "\"\\nEN: As we can see the 'DecisionTreeClassifier' gave us a precision of 92% for benign and 89% for malign \\nPT: Como podemos observar o modelo 'DecisionTreeClassifier' nos deu uma precisão de 92% para canceres benignos e 89% para\\nmalignos\\n\""
      ]
     },
     "execution_count": 33,
     "metadata": {},
     "output_type": "execute_result"
    }
   ],
   "source": [
    "'''\n",
    "EN: As we can see the 'DecisionTreeClassifier' gave us a precision of 92% for benign and 88% for malign \n",
    "PT: Como podemos observar o modelo 'DecisionTreeClassifier' nos deu uma precisão de 92% para canceres benignos e 88% para\n",
    "malignos\n",
    "'''"
   ]
  },
  {
   "cell_type": "code",
   "execution_count": 34,
   "metadata": {},
   "outputs": [],
   "source": [
    "# EN: Now let's try to improve that using XGBoost\n",
    "# PT: Vamos tentar melhorar isso usando XGBoost\n",
    "from xgboost import XGBClassifier"
   ]
  },
  {
   "cell_type": "code",
   "execution_count": 35,
   "metadata": {},
   "outputs": [],
   "source": [
    "''' \n",
    "EN:\n",
    "Let's create the model.\n",
    "The only parameter we are define is the evaluation metrics that will be set igual to Multiclass Logloss\n",
    "You can find more information about this choise in the links bellow:\n",
    "https://xgboost.readthedocs.io/en/latest/parameter.html\n",
    "https://scikit-learn.org/stable/modules/generated/sklearn.metrics.log_loss.html\n",
    "\n",
    "PT:\n",
    "Vamos criar o modelo.\n",
    "O único parametro que vamos definir é a métrica de avaliação que será definido como 'Múlticlasses Logloss'.\n",
    "Mais informações sobre métrica de avaliação para modelos de classificação podem ser encontradas nos links a seguir:\n",
    "https://xgboost.readthedocs.io/en/latest/parameter.html\n",
    "https://scikit-learn.org/stable/modules/generated/sklearn.metrics.log_loss.html\n",
    "'''\n",
    "model = XGBClassifier(eval_metrics = 'mlogloss') "
   ]
  },
  {
   "cell_type": "code",
   "execution_count": 36,
   "metadata": {},
   "outputs": [
    {
     "name": "stdout",
     "output_type": "stream",
     "text": [
      "[11:29:56] WARNING: ..\\src\\learner.cc:541: \n",
      "Parameters: { eval_metrics } might not be used.\n",
      "\n",
      "  This may not be accurate due to some parameters are only used in language bindings but\n",
      "  passed down to XGBoost core.  Or some parameters are not used but slip through this\n",
      "  verification. Please open an issue if you find above cases.\n",
      "\n",
      "\n",
      "[11:29:56] WARNING: ..\\src\\learner.cc:1061: Starting in XGBoost 1.3.0, the default evaluation metric used with the objective 'binary:logistic' was changed from 'error' to 'logloss'. Explicitly set eval_metric if you'd like to restore the old behavior.\n"
     ]
    },
    {
     "name": "stderr",
     "output_type": "stream",
     "text": [
      "C:\\Users\\Particular\\anaconda3\\lib\\site-packages\\xgboost\\sklearn.py:888: UserWarning: The use of label encoder in XGBClassifier is deprecated and will be removed in a future release. To remove this warning, do the following: 1) Pass option use_label_encoder=False when constructing XGBClassifier object; and 2) Encode your labels (y) as integers starting with 0, i.e. 0, 1, 2, ..., [num_class - 1].\n",
      "  warnings.warn(label_encoder_deprecation_msg, UserWarning)\n"
     ]
    },
    {
     "data": {
      "text/plain": [
       "XGBClassifier(base_score=0.5, booster='gbtree', colsample_bylevel=1,\n",
       "              colsample_bynode=1, colsample_bytree=1, eval_metrics='mlogloss',\n",
       "              gamma=0, gpu_id=-1, importance_type='gain',\n",
       "              interaction_constraints='', learning_rate=0.300000012,\n",
       "              max_delta_step=0, max_depth=6, min_child_weight=1, missing=nan,\n",
       "              monotone_constraints='()', n_estimators=100, n_jobs=4,\n",
       "              num_parallel_tree=1, random_state=0, reg_alpha=0, reg_lambda=1,\n",
       "              scale_pos_weight=1, subsample=1, tree_method='exact',\n",
       "              validate_parameters=1, verbosity=None)"
      ]
     },
     "execution_count": 36,
     "metadata": {},
     "output_type": "execute_result"
    }
   ],
   "source": [
    "# EN: Fitting the training data \n",
    "# PT: Colocando os dados de treino no modelo\n",
    "model.fit(X_train, y_train)"
   ]
  },
  {
   "cell_type": "code",
   "execution_count": 37,
   "metadata": {},
   "outputs": [],
   "source": [
    "# EN: Use the test part of the data to make predctions and assigning it to a variable \n",
    "# PT: Usando a parte de testes dos dados para fazer as prediçoes e atriuindo essas predições a uma variável\n",
    "pred_XGB = model.predict(X_test)"
   ]
  },
  {
   "cell_type": "code",
   "execution_count": 38,
   "metadata": {},
   "outputs": [
    {
     "name": "stdout",
     "output_type": "stream",
     "text": [
      "              precision    recall  f1-score   support\n",
      "\n",
      "           B       0.98      0.97      0.98       105\n",
      "           M       0.96      0.97      0.96        66\n",
      "\n",
      "    accuracy                           0.97       171\n",
      "   macro avg       0.97      0.97      0.97       171\n",
      "weighted avg       0.97      0.97      0.97       171\n",
      "\n"
     ]
    }
   ],
   "source": [
    "# EN: Performance evaluation using classification_report. Here we compare our y_test (output variable) with our preditions\n",
    "# PT: Avalição da performance utilizando 'classification_report'. Aqui comparamos o y_test (variável de saída) com as predições.\n",
    "print(classification_report(y_test, pred_XGB))"
   ]
  },
  {
   "cell_type": "code",
   "execution_count": 39,
   "metadata": {},
   "outputs": [
    {
     "data": {
      "text/plain": [
       "'\\nEN:\\nAs we can see the the XGBoost performed better than the Decision tree, but for this problem we may want to work \\na little bit more on our model and try to improve even further. \\nBut for now, that all folks\\n¯\\\\_(ツ)_/¯\\n\\n\\nPT:\\nComo podemos perceber o modelo XGBoost apresentou uma performance mehor que o DecisionTree, mas para esse problema talvez\\nseja interessante trabalhar um pouco mais no modelo e tentar melhorar um pouco mais as predições.\\nMas, por enquanto, isso é tudo pessoal.\\n¯\\\\_(ツ)_/¯\\n'"
      ]
     },
     "execution_count": 39,
     "metadata": {},
     "output_type": "execute_result"
    }
   ],
   "source": [
    "'''\n",
    "EN:\n",
    "As we can see the the XGBoost performed better than the Decision tree, but for this problem we may want to work \n",
    "a little bit more on our model and try to improve even further. \n",
    "But for now, that all folks\n",
    "¯\\_(ツ)_/¯\n",
    "\n",
    "\n",
    "PT:\n",
    "Como podemos perceber o modelo XGBoost apresentou uma performance mehor que o DecisionTree, mas para esse problema talvez\n",
    "seja interessante trabalhar um pouco mais no modelo e tentar melhorar um pouco mais as predições.\n",
    "Mas, por enquanto, isso é tudo pessoal.\n",
    "¯\\_(ツ)_/¯\n",
    "'''"
   ]
  }
 ],
 "metadata": {
  "kernelspec": {
   "display_name": "Python 3",
   "language": "python",
   "name": "python3"
  },
  "language_info": {
   "codemirror_mode": {
    "name": "ipython",
    "version": 3
   },
   "file_extension": ".py",
   "mimetype": "text/x-python",
   "name": "python",
   "nbconvert_exporter": "python",
   "pygments_lexer": "ipython3",
   "version": "3.8.5"
  }
 },
 "nbformat": 4,
 "nbformat_minor": 4
}
